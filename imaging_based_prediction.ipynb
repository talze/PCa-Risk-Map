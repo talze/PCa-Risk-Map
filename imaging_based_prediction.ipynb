{
 "cells": [
  {
   "cell_type": "markdown",
   "metadata": {},
   "source": [
    "# 1. Import Libraries"
   ]
  },
  {
   "cell_type": "code",
   "execution_count": 1,
   "metadata": {},
   "outputs": [],
   "source": [
    "import os\n",
    "import numpy as np\n",
    "import pandas as pd\n",
    "\n",
    "import torch\n",
    "\n",
    "from monai.networks.nets import AutoEncoder\n",
    "\n",
    "from scipy.spatial.distance import pdist, squareform\n",
    "\n",
    "from sklearn.preprocessing import OneHotEncoder\n",
    "from sklearn.model_selection import StratifiedKFold\n",
    "from sklearn.ensemble import RandomForestClassifier\n",
    "\n",
    "import matplotlib.pyplot as plt"
   ]
  },
  {
   "cell_type": "markdown",
   "metadata": {},
   "source": [
    "# 2. Define Global Variables"
   ]
  },
  {
   "cell_type": "code",
   "execution_count": 2,
   "metadata": {},
   "outputs": [],
   "source": [
    "PATH_DATASET = 'exampleBiopsySessionDataset'\n",
    "PATCH_SIZE = (9, 9, 3)"
   ]
  },
  {
   "cell_type": "markdown",
   "metadata": {},
   "source": [
    "# 3. Extract Imaging Biomarkers"
   ]
  },
  {
   "cell_type": "markdown",
   "metadata": {},
   "source": [
    "## 3.1. Import Patches"
   ]
  },
  {
   "cell_type": "code",
   "execution_count": 3,
   "metadata": {},
   "outputs": [],
   "source": [
    "patch_dict = np.load(os.path.join(PATH_DATASET, 'patch_dict.npy'), allow_pickle = True)"
   ]
  },
  {
   "cell_type": "markdown",
   "metadata": {},
   "source": [
    "## 3.2. Load the Auto-Encoder Model"
   ]
  },
  {
   "cell_type": "code",
   "execution_count": 4,
   "metadata": {},
   "outputs": [
    {
     "data": {
      "text/plain": [
       "<All keys matched successfully>"
      ]
     },
     "execution_count": 4,
     "metadata": {},
     "output_type": "execute_result"
    }
   ],
   "source": [
    "model = AutoEncoder(spatial_dims = 2,\n",
    "                    in_channels = PATCH_SIZE[2],\n",
    "                    out_channels = PATCH_SIZE[2],\n",
    "                    channels = (4,8),\n",
    "                    inter_channels = (8,8),\n",
    "                    strides = (2,2),\n",
    "                    kernel_size = 5)\n",
    "\n",
    "model.load_state_dict(torch.load('autoencoder_weights'))"
   ]
  },
  {
   "cell_type": "markdown",
   "metadata": {},
   "source": [
    "## 3.3. Retrieve Imaging Biomarkers from the Autoencoder's Embedding Layer"
   ]
  },
  {
   "cell_type": "code",
   "execution_count": 5,
   "metadata": {},
   "outputs": [],
   "source": [
    "X = []\n",
    "MD = []\n",
    "for d in patch_dict:\n",
    "    patch_array = d['patch_array']\n",
    "    x = torch.as_tensor(patch_array)\n",
    "    x = model.encode(x)\n",
    "    x = model.intermediate(x)\n",
    "    x = x.flatten()\n",
    "    x = x.detach().cpu().numpy()\n",
    "    \n",
    "    X.append(x)\n",
    "    MD.append({key:val for key,val in d.items() if not 'patch_array' in key})\n",
    "    \n",
    "X = np.array(X)\n",
    "MD = pd.DataFrame(MD)\n",
    "Y = MD['label_core'].values.copy()"
   ]
  },
  {
   "cell_type": "markdown",
   "metadata": {},
   "source": [
    "# 4. Utilize Imaging Biomarkers for Pathology Prediction"
   ]
  },
  {
   "cell_type": "markdown",
   "metadata": {},
   "source": [
    "## 4.1. Specify Experiment Configuration"
   ]
  },
  {
   "cell_type": "code",
   "execution_count": 6,
   "metadata": {},
   "outputs": [],
   "source": [
    "SEED = 123\n",
    "\n",
    "# Cross Validation Configuration\n",
    "CV_SPLITS = 5\n",
    "CV_POLICY = StratifiedKFold(n_splits = CV_SPLITS, random_state = SEED, shuffle = True)\n",
    "\n",
    "# Feature Selection Configuration\n",
    "PEARSON_CORRELATION_THRESHOLD = 0.7\n",
    "\n",
    "# Random Forest Configuration\n",
    "M = 300\n",
    "MAX_DEPTH = 5\n",
    "\n",
    "# Classification Task Configuration\n",
    "TARGET = -1 # E.g.: Binary Classificaiton (Benign vs. Rest)"
   ]
  },
  {
   "cell_type": "markdown",
   "metadata": {},
   "source": [
    "## 4.2. Define Utility Functions"
   ]
  },
  {
   "cell_type": "code",
   "execution_count": 7,
   "metadata": {},
   "outputs": [],
   "source": [
    "def select_features_pearson_corr(X, threshold = 0.7):\n",
    "    corr_matrix = pd.DataFrame(X).corr().abs()\n",
    "    upper = corr_matrix.where(np.triu(np.ones(corr_matrix.shape), k=1).astype(np.bool)).fillna(0)\n",
    "\n",
    "    return (upper < threshold).all(axis = 1)"
   ]
  },
  {
   "cell_type": "markdown",
   "metadata": {},
   "source": [
    "## 4.3. Run the Prediction Pipeline"
   ]
  },
  {
   "cell_type": "code",
   "execution_count": 8,
   "metadata": {},
   "outputs": [],
   "source": [
    "results = []\n",
    "for idx_fold, (idx_train, idx_test) in enumerate(CV_POLICY.split(X, Y)):\n",
    "    \n",
    "    # Cross-validation Instance Sampling\n",
    "    X_train, X_test = X[idx_train].copy(), X[idx_test].copy()\n",
    "    y_train, y_test = Y[idx_train].copy(), Y[idx_test].copy()\n",
    "    MD_train, MD_test = MD.iloc[idx_train,:].copy(), MD.iloc[idx_test,:].copy()\n",
    "\n",
    "    # Feature Selection\n",
    "    selected_features = select_features_pearson_corr(X = X_train, threshold = PEARSON_CORRELATION_THRESHOLD)\n",
    "    X_train = X_train[:,selected_features]\n",
    "    X_test = X_test[:,selected_features]\n",
    "    \n",
    "    # Modeling\n",
    "    estimator = RandomForestClassifier(n_estimators = M, max_depth = MAX_DEPTH, random_state = SEED)\n",
    "    estimator.fit(X_train, y_train == TARGET)\n",
    "    y_pred = estimator.predict_proba(X_test)\n",
    "    y_pred = pd.DataFrame(y_pred, columns = ['p{}'.format(c) for c in range(y_pred.shape[1])])\n",
    "    \n",
    "    # Store Results\n",
    "    results_fold = pd.DataFrame({\n",
    "        'idx': idx_test,\n",
    "        'y_true': y_test == TARGET,\n",
    "        'type_biopsy': MD_test['type_biopsy'].values,\n",
    "        'id_patch': MD_test['id_patch'].values,\n",
    "        'id_core': MD_test['id_core'].values\n",
    "    })\n",
    "    \n",
    "    results_fold = pd.concat([results_fold, y_pred], axis = 1)\n",
    "    results.append(results_fold)\n",
    "    \n",
    "results = pd.concat(results, axis = 0)"
   ]
  },
  {
   "cell_type": "markdown",
   "metadata": {},
   "source": [
    "## 4.4. Display Predictions for a Specific Biopsy Core"
   ]
  },
  {
   "cell_type": "code",
   "execution_count": 9,
   "metadata": {},
   "outputs": [
    {
     "data": {
      "text/plain": [
       "id_core        7460\n",
       "p1         0.991333\n",
       "y_true         True\n",
       "Name: 0, dtype: object"
      ]
     },
     "execution_count": 9,
     "metadata": {},
     "output_type": "execute_result"
    }
   ],
   "source": [
    "results_core_level = pd.DataFrame(results.groupby(by = 'id_core').apply(lambda x: np.percentile(x['p1'], 90)), columns = ['p1']).reset_index()\n",
    "results_core_level = pd.merge(left = results_core_level, right = results[['id_core', 'y_true']].drop_duplicates().reset_index(drop=True), on = 'id_core', how = 'left')\n",
    "results_core_level.iloc[0]"
   ]
  }
 ],
 "metadata": {
  "kernelspec": {
   "display_name": "Python 3",
   "language": "python",
   "name": "python3"
  },
  "language_info": {
   "codemirror_mode": {
    "name": "ipython",
    "version": 3
   },
   "file_extension": ".py",
   "mimetype": "text/x-python",
   "name": "python",
   "nbconvert_exporter": "python",
   "pygments_lexer": "ipython3",
   "version": "3.7.6"
  }
 },
 "nbformat": 4,
 "nbformat_minor": 4
}
